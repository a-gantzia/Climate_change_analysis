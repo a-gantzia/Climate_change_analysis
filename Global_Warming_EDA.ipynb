{
 "cells": [
  {
   "cell_type": "code",
   "execution_count": 1,
   "metadata": {},
   "outputs": [],
   "source": [
    "import numpy as np\n",
    "import pandas as pd\n",
    "import matplotlib.pyplot as plt\n",
    "import plotly\n",
    "import plotly.graph_objs as go\n",
    "import plotly.tools as tls\n",
    "import seaborn as sns\n",
    "import time\n",
    "from datetime import datetime\n",
    "import warnings\n",
    "from celluloid import Camera # getting the camera\n",
    "from IPython.display import HTML\n",
    "warnings.filterwarnings('ignore')"
   ]
  },
  {
   "cell_type": "code",
   "execution_count": 2,
   "metadata": {},
   "outputs": [],
   "source": [
    "pd.set_option('display.float_format', lambda x: '%.2f' % x)"
   ]
  },
  {
   "cell_type": "code",
   "execution_count": 3,
   "metadata": {},
   "outputs": [],
   "source": [
    "temp_city = pd.read_csv('./input/GlobalLandTemperaturesByCity.csv')\n",
    "temp_country = pd.read_csv('./input/GlobalLandTemperaturesByCountry.csv')\n",
    "temp_global = pd.read_csv('./input/GlobalTemperatures.csv')\n",
    "ghg = pd.read_csv('./input/greenhouse_gas_inventory_data_data.csv')"
   ]
  },
  {
   "cell_type": "code",
   "execution_count": 4,
   "metadata": {},
   "outputs": [],
   "source": [
    "def clean_data(df, temp):\n",
    "    df = df[df[temp].notna()]\n",
    "    df['dt'] = pd.to_datetime(df['dt'], dayfirst=True)\n",
    "    df['Year'] = df['dt'].dt.year\n",
    "    df['Month'] = df['dt'].dt.month\n",
    "    return df"
   ]
  },
  {
   "cell_type": "code",
   "execution_count": 5,
   "metadata": {},
   "outputs": [],
   "source": [
    "temp_city = clean_data(temp_city, 'AverageTemperature')\n",
    "temp_country = clean_data(temp_country, 'AverageTemperature')\n",
    "temp_global = clean_data(temp_global, 'LandAverageTemperature')"
   ]
  },
  {
   "cell_type": "markdown",
   "metadata": {},
   "source": [
    "## Is it getting warmer?"
   ]
  },
  {
   "cell_type": "code",
   "execution_count": 6,
   "metadata": {},
   "outputs": [
    {
     "data": {
      "text/html": [
       "<div>\n",
       "<style scoped>\n",
       "    .dataframe tbody tr th:only-of-type {\n",
       "        vertical-align: middle;\n",
       "    }\n",
       "\n",
       "    .dataframe tbody tr th {\n",
       "        vertical-align: top;\n",
       "    }\n",
       "\n",
       "    .dataframe thead th {\n",
       "        text-align: right;\n",
       "    }\n",
       "</style>\n",
       "<table border=\"1\" class=\"dataframe\">\n",
       "  <thead>\n",
       "    <tr style=\"text-align: right;\">\n",
       "      <th></th>\n",
       "      <th>Year</th>\n",
       "      <th>LandAverageTemperature</th>\n",
       "      <th>LandAverageTemperatureUncertainty</th>\n",
       "      <th>LandMaxTemperature</th>\n",
       "      <th>LandMaxTemperatureUncertainty</th>\n",
       "      <th>LandMinTemperature</th>\n",
       "      <th>LandMinTemperatureUncertainty</th>\n",
       "      <th>LandAndOceanAverageTemperature</th>\n",
       "      <th>LandAndOceanAverageTemperatureUncertainty</th>\n",
       "      <th>Month</th>\n",
       "    </tr>\n",
       "  </thead>\n",
       "  <tbody>\n",
       "    <tr>\n",
       "      <th>0</th>\n",
       "      <td>1750</td>\n",
       "      <td>8.72</td>\n",
       "      <td>2.64</td>\n",
       "      <td>nan</td>\n",
       "      <td>nan</td>\n",
       "      <td>nan</td>\n",
       "      <td>nan</td>\n",
       "      <td>nan</td>\n",
       "      <td>nan</td>\n",
       "      <td>6.09</td>\n",
       "    </tr>\n",
       "    <tr>\n",
       "      <th>1</th>\n",
       "      <td>1751</td>\n",
       "      <td>7.98</td>\n",
       "      <td>2.78</td>\n",
       "      <td>nan</td>\n",
       "      <td>nan</td>\n",
       "      <td>nan</td>\n",
       "      <td>nan</td>\n",
       "      <td>nan</td>\n",
       "      <td>nan</td>\n",
       "      <td>4.71</td>\n",
       "    </tr>\n",
       "    <tr>\n",
       "      <th>2</th>\n",
       "      <td>1752</td>\n",
       "      <td>5.78</td>\n",
       "      <td>2.98</td>\n",
       "      <td>nan</td>\n",
       "      <td>nan</td>\n",
       "      <td>nan</td>\n",
       "      <td>nan</td>\n",
       "      <td>nan</td>\n",
       "      <td>nan</td>\n",
       "      <td>6.83</td>\n",
       "    </tr>\n",
       "    <tr>\n",
       "      <th>3</th>\n",
       "      <td>1753</td>\n",
       "      <td>8.39</td>\n",
       "      <td>3.18</td>\n",
       "      <td>nan</td>\n",
       "      <td>nan</td>\n",
       "      <td>nan</td>\n",
       "      <td>nan</td>\n",
       "      <td>nan</td>\n",
       "      <td>nan</td>\n",
       "      <td>6.50</td>\n",
       "    </tr>\n",
       "    <tr>\n",
       "      <th>4</th>\n",
       "      <td>1754</td>\n",
       "      <td>8.47</td>\n",
       "      <td>3.49</td>\n",
       "      <td>nan</td>\n",
       "      <td>nan</td>\n",
       "      <td>nan</td>\n",
       "      <td>nan</td>\n",
       "      <td>nan</td>\n",
       "      <td>nan</td>\n",
       "      <td>6.50</td>\n",
       "    </tr>\n",
       "    <tr>\n",
       "      <th>...</th>\n",
       "      <td>...</td>\n",
       "      <td>...</td>\n",
       "      <td>...</td>\n",
       "      <td>...</td>\n",
       "      <td>...</td>\n",
       "      <td>...</td>\n",
       "      <td>...</td>\n",
       "      <td>...</td>\n",
       "      <td>...</td>\n",
       "      <td>...</td>\n",
       "    </tr>\n",
       "    <tr>\n",
       "      <th>261</th>\n",
       "      <td>2011</td>\n",
       "      <td>9.52</td>\n",
       "      <td>0.08</td>\n",
       "      <td>15.28</td>\n",
       "      <td>0.11</td>\n",
       "      <td>3.83</td>\n",
       "      <td>0.14</td>\n",
       "      <td>15.77</td>\n",
       "      <td>0.06</td>\n",
       "      <td>6.50</td>\n",
       "    </tr>\n",
       "    <tr>\n",
       "      <th>262</th>\n",
       "      <td>2012</td>\n",
       "      <td>9.51</td>\n",
       "      <td>0.08</td>\n",
       "      <td>15.33</td>\n",
       "      <td>0.11</td>\n",
       "      <td>3.76</td>\n",
       "      <td>0.15</td>\n",
       "      <td>15.80</td>\n",
       "      <td>0.06</td>\n",
       "      <td>6.50</td>\n",
       "    </tr>\n",
       "    <tr>\n",
       "      <th>263</th>\n",
       "      <td>2013</td>\n",
       "      <td>9.61</td>\n",
       "      <td>0.10</td>\n",
       "      <td>15.37</td>\n",
       "      <td>0.12</td>\n",
       "      <td>3.91</td>\n",
       "      <td>0.15</td>\n",
       "      <td>15.85</td>\n",
       "      <td>0.06</td>\n",
       "      <td>6.50</td>\n",
       "    </tr>\n",
       "    <tr>\n",
       "      <th>264</th>\n",
       "      <td>2014</td>\n",
       "      <td>9.57</td>\n",
       "      <td>0.09</td>\n",
       "      <td>15.31</td>\n",
       "      <td>0.11</td>\n",
       "      <td>3.88</td>\n",
       "      <td>0.14</td>\n",
       "      <td>15.91</td>\n",
       "      <td>0.06</td>\n",
       "      <td>6.50</td>\n",
       "    </tr>\n",
       "    <tr>\n",
       "      <th>265</th>\n",
       "      <td>2015</td>\n",
       "      <td>9.83</td>\n",
       "      <td>0.09</td>\n",
       "      <td>15.57</td>\n",
       "      <td>0.11</td>\n",
       "      <td>4.15</td>\n",
       "      <td>0.14</td>\n",
       "      <td>16.06</td>\n",
       "      <td>0.06</td>\n",
       "      <td>6.50</td>\n",
       "    </tr>\n",
       "  </tbody>\n",
       "</table>\n",
       "<p>266 rows × 10 columns</p>\n",
       "</div>"
      ],
      "text/plain": [
       "     Year  LandAverageTemperature  LandAverageTemperatureUncertainty  \\\n",
       "0    1750                    8.72                               2.64   \n",
       "1    1751                    7.98                               2.78   \n",
       "2    1752                    5.78                               2.98   \n",
       "3    1753                    8.39                               3.18   \n",
       "4    1754                    8.47                               3.49   \n",
       "..    ...                     ...                                ...   \n",
       "261  2011                    9.52                               0.08   \n",
       "262  2012                    9.51                               0.08   \n",
       "263  2013                    9.61                               0.10   \n",
       "264  2014                    9.57                               0.09   \n",
       "265  2015                    9.83                               0.09   \n",
       "\n",
       "     LandMaxTemperature  LandMaxTemperatureUncertainty  LandMinTemperature  \\\n",
       "0                   nan                            nan                 nan   \n",
       "1                   nan                            nan                 nan   \n",
       "2                   nan                            nan                 nan   \n",
       "3                   nan                            nan                 nan   \n",
       "4                   nan                            nan                 nan   \n",
       "..                  ...                            ...                 ...   \n",
       "261               15.28                           0.11                3.83   \n",
       "262               15.33                           0.11                3.76   \n",
       "263               15.37                           0.12                3.91   \n",
       "264               15.31                           0.11                3.88   \n",
       "265               15.57                           0.11                4.15   \n",
       "\n",
       "     LandMinTemperatureUncertainty  LandAndOceanAverageTemperature  \\\n",
       "0                              nan                             nan   \n",
       "1                              nan                             nan   \n",
       "2                              nan                             nan   \n",
       "3                              nan                             nan   \n",
       "4                              nan                             nan   \n",
       "..                             ...                             ...   \n",
       "261                           0.14                           15.77   \n",
       "262                           0.15                           15.80   \n",
       "263                           0.15                           15.85   \n",
       "264                           0.14                           15.91   \n",
       "265                           0.14                           16.06   \n",
       "\n",
       "     LandAndOceanAverageTemperatureUncertainty  Month  \n",
       "0                                          nan   6.09  \n",
       "1                                          nan   4.71  \n",
       "2                                          nan   6.83  \n",
       "3                                          nan   6.50  \n",
       "4                                          nan   6.50  \n",
       "..                                         ...    ...  \n",
       "261                                       0.06   6.50  \n",
       "262                                       0.06   6.50  \n",
       "263                                       0.06   6.50  \n",
       "264                                       0.06   6.50  \n",
       "265                                       0.06   6.50  \n",
       "\n",
       "[266 rows x 10 columns]"
      ]
     },
     "execution_count": 6,
     "metadata": {},
     "output_type": "execute_result"
    }
   ],
   "source": [
    "temp_global = temp_global.groupby(by=['Year']).mean().reset_index()\n",
    "temp_global"
   ]
  },
  {
   "cell_type": "code",
   "execution_count": 7,
   "metadata": {},
   "outputs": [
    {
     "data": {
      "image/png": "[encoded data removed]",
      "text/plain": [
       "<Figure size 432x288 with 1 Axes>"
      ]
     },
     "metadata": {},
     "output_type": "display_data"
    }
   ],
   "source": [
    "clrs = sns.color_palette(\"husl\", 4)\n",
    "sns.set(font_scale=1.2)\n",
    "with sns.axes_style(\"darkgrid\"):\n",
    "    sns.lineplot(x=temp_global.Year, y = temp_global.LandAverageTemperatureUncertainty, \n",
    "                 ci = None, color =clrs[3])"
   ]
  },
  {
   "cell_type": "code",
   "execution_count": 8,
   "metadata": {},
   "outputs": [],
   "source": [
    "#temp_global = temp_global[temp_global.Year>=1850]"
   ]
  },
  {
   "cell_type": "code",
   "execution_count": 9,
   "metadata": {},
   "outputs": [
    {
     "ename": "NameError",
     "evalue": "name 'min_year' is not defined",
     "output_type": "error",
     "traceback": [
      "\u001b[1;31m---------------------------------------------------------------------------\u001b[0m",
      "\u001b[1;31mNameError\u001b[0m                                 Traceback (most recent call last)",
      "\u001b[1;32m<ipython-input-9-6083798087a9>\u001b[0m in \u001b[0;36m<module>\u001b[1;34m\u001b[0m\n\u001b[0;32m      1\u001b[0m \u001b[0mfig\u001b[0m\u001b[1;33m,\u001b[0m \u001b[0max\u001b[0m \u001b[1;33m=\u001b[0m \u001b[0mplt\u001b[0m\u001b[1;33m.\u001b[0m\u001b[0msubplots\u001b[0m\u001b[1;33m(\u001b[0m\u001b[0mfigsize\u001b[0m\u001b[1;33m=\u001b[0m\u001b[1;33m(\u001b[0m\u001b[1;36m10\u001b[0m\u001b[1;33m,\u001b[0m \u001b[1;36m6\u001b[0m\u001b[1;33m)\u001b[0m\u001b[1;33m)\u001b[0m \u001b[1;31m# let's make it bigger\u001b[0m\u001b[1;33m\u001b[0m\u001b[1;33m\u001b[0m\u001b[0m\n\u001b[0;32m      2\u001b[0m \u001b[1;33m\u001b[0m\u001b[0m\n\u001b[1;32m----> 3\u001b[1;33m \u001b[0mplt\u001b[0m\u001b[1;33m.\u001b[0m\u001b[0mxlim\u001b[0m\u001b[1;33m(\u001b[0m\u001b[0mmin_year\u001b[0m\u001b[1;33m,\u001b[0m \u001b[0mmax_year\u001b[0m\u001b[1;33m)\u001b[0m\u001b[1;33m\u001b[0m\u001b[1;33m\u001b[0m\u001b[0m\n\u001b[0m\u001b[0;32m      4\u001b[0m \u001b[0max\u001b[0m\u001b[1;33m.\u001b[0m\u001b[0mgrid\u001b[0m\u001b[1;33m(\u001b[0m\u001b[1;32mFalse\u001b[0m\u001b[1;33m)\u001b[0m\u001b[1;33m\u001b[0m\u001b[1;33m\u001b[0m\u001b[0m\n\u001b[0;32m      5\u001b[0m \u001b[0max\u001b[0m\u001b[1;33m.\u001b[0m\u001b[0mset_ylabel\u001b[0m\u001b[1;33m(\u001b[0m\u001b[1;34m'Average Temperature / Uncertainty'\u001b[0m\u001b[1;33m)\u001b[0m\u001b[1;33m\u001b[0m\u001b[1;33m\u001b[0m\u001b[0m\n",
      "\u001b[1;31mNameError\u001b[0m: name 'min_year' is not defined"
     ]
    },
    {
     "data": {
      "image/png": "[encoded data removed]",
      "text/plain": [
       "<Figure size 720x432 with 1 Axes>"
      ]
     },
     "metadata": {},
     "output_type": "display_data"
    }
   ],
   "source": [
    "fig, ax = plt.subplots(figsize=(10, 6)) # let's make it bigger\n",
    "\n",
    "plt.xlim(min_year, max_year)\n",
    "ax.grid(False)\n",
    "ax.set_ylabel('Average Temperature / Uncertainty')\n",
    "ax.set_xlabel('Year')\n",
    "ax.set_title('Average Land Temperature (& its Uncertainty) on Earth 1850-2015')\n",
    "\n",
    "camera = Camera(fig)# the camera gets our figure\n",
    "x = temp_global.Year\n",
    "y1 = temp_global.LandAverageTemperature\n",
    "y2 = temp_global.LandAverageTemperatureUncertainty\n",
    "for i in range(len(x)):\n",
    "    x_t = x[:i] # current year\n",
    "    y_t1 = y1[:i] # current temp\n",
    "    y_t2 = y2[:i] # current temp error\n",
    "    ax.plot(x_t, y_t1, c='blue')\n",
    "    ax.plot(x_t, y_t2, c='red')\n",
    "    camera.snap()\n",
    "\n",
    "ax.legend(['Average Temperature','Temperature Uncertainty'], loc='left')\n",
    "animation = camera.animate(interval=10, repeat = False)\n",
    "plt.close() #Stop the empty plot from displaying\n",
    "animation.save('global_temp.gif', writer='pillow')\n",
    "HTML(animation.to_html5_video())"
   ]
  },
  {
   "cell_type": "code",
   "execution_count": null,
   "metadata": {},
   "outputs": [],
   "source": [
    "#temp_country.Country.value_counts()\n",
    "#temp_city.shape\n",
    "#temp_city.describe()\n",
    "#temp_city['temp_top'] = temp_city['AverageTemperature'] + temp_city['AverageTemperatureUncertainty']\n",
    "#temp_city['temp_bottom'] = temp_city['AverageTemperature'] - temp_city['AverageTemperatureUncertainty']"
   ]
  },
  {
   "cell_type": "markdown",
   "metadata": {},
   "source": [
    "## What about Greece?"
   ]
  },
  {
   "cell_type": "code",
   "execution_count": null,
   "metadata": {},
   "outputs": [],
   "source": []
  },
  {
   "cell_type": "code",
   "execution_count": null,
   "metadata": {},
   "outputs": [],
   "source": [
    "ghg_greece = ghg[ghg['country_or_area']=='Greece']"
   ]
  },
  {
   "cell_type": "code",
   "execution_count": null,
   "metadata": {},
   "outputs": [],
   "source": [
    "ghg_greece"
   ]
  },
  {
   "cell_type": "code",
   "execution_count": null,
   "metadata": {},
   "outputs": [],
   "source": [
    "ghg_greece = ghg_greece.groupby(by=['year']).sum().reset_index()\n",
    "ghg_greece"
   ]
  },
  {
   "cell_type": "code",
   "execution_count": null,
   "metadata": {},
   "outputs": [],
   "source": [
    "f, ax = plt.subplots(figsize=(10, 6))\n",
    "sns.set(font_scale=1.2)\n",
    "with sns.axes_style(\"darkgrid\"):\n",
    "    sns.lineplot(x=global_ghg.year, y = global_ghg.value, \n",
    "                 ci = None, color =clrs[3])\n",
    "plt.xlim(1990, 2014)\n",
    "ax.grid(False)\n",
    "ax.set_ylabel('GHG in Greece')\n",
    "ax.set_xlabel('Year')\n",
    "ax.set_title('GHG in Greece')\n",
    "legend = plt.legend(loc='center left', bbox_to_anchor=(1, 0.5))"
   ]
  },
  {
   "cell_type": "code",
   "execution_count": null,
   "metadata": {},
   "outputs": [],
   "source": [
    "ghg = ghg.groupby(by=['year', 'country_or_area']).sum().reset_index()"
   ]
  },
  {
   "cell_type": "code",
   "execution_count": null,
   "metadata": {},
   "outputs": [],
   "source": [
    "ghg"
   ]
  },
  {
   "cell_type": "code",
   "execution_count": null,
   "metadata": {},
   "outputs": [],
   "source": [
    "keep_cols = ['Year', 'AverageTemperature', 'AverageTemperatureUncertainty', 'Month']\n",
    "gr = temp_country[temp_country.Country == 'Greece'][keep_cols]\n",
    "gr"
   ]
  },
  {
   "cell_type": "code",
   "execution_count": null,
   "metadata": {},
   "outputs": [],
   "source": [
    "#gr = temp_city[temp_city['Country'] == 'Greece']"
   ]
  },
  {
   "cell_type": "code",
   "execution_count": null,
   "metadata": {},
   "outputs": [],
   "source": [
    "gr.describe()"
   ]
  },
  {
   "cell_type": "code",
   "execution_count": null,
   "metadata": {},
   "outputs": [],
   "source": [
    "clrs = sns.color_palette(\"husl\", 4)\n",
    "sns.set(font_scale=1.2)\n",
    "with sns.axes_style(\"darkgrid\"):\n",
    "    sns.lineplot(x=gr.Year, y = gr.AverageTemperatureUncertainty, \n",
    "                 ci = None, color =clrs[3])"
   ]
  },
  {
   "cell_type": "code",
   "execution_count": null,
   "metadata": {},
   "outputs": [],
   "source": [
    "title = 'Average Temperature in Greece'\n",
    "\n",
    "sns.set_style('ticks')\n",
    "fig, ax = plt.subplots()\n",
    "fig.set_size_inches(20, 10.5)\n",
    "sns.regplot(data=gr, x=\"Year\", y=\"AverageTemperature\").set(title=title)\n",
    "sns.despine()\n",
    "#plt.plot(, 30) "
   ]
  },
  {
   "cell_type": "code",
   "execution_count": null,
   "metadata": {},
   "outputs": [],
   "source": [
    "gr = gr[gr.Year>=1850]"
   ]
  },
  {
   "cell_type": "code",
   "execution_count": null,
   "metadata": {},
   "outputs": [],
   "source": [
    "def get_season(month):\n",
    "    if month in [3,4,5]:\n",
    "        return 'Spring'\n",
    "    elif month in [6,7,8]:\n",
    "        return 'Summer'\n",
    "    elif month in [9,10,11]:\n",
    "        return 'Autumn'\n",
    "    else:\n",
    "        return 'Winter'"
   ]
  },
  {
   "cell_type": "code",
   "execution_count": null,
   "metadata": {},
   "outputs": [],
   "source": [
    "min_year = gr['Year'].min()\n",
    "max_year = gr['Year'].max()\n",
    "years = range(min_year, max_year + 1)"
   ]
  },
  {
   "cell_type": "code",
   "execution_count": null,
   "metadata": {},
   "outputs": [],
   "source": [
    "gr['season'] = gr['Month'].apply(get_season)"
   ]
  },
  {
   "cell_type": "code",
   "execution_count": null,
   "metadata": {},
   "outputs": [],
   "source": [
    "title = 'Average Temperature in Greece'\n",
    "sns.set_style('ticks')\n",
    "fig, ax = plt.subplots()\n",
    "fig.set_size_inches(20, 10.5)\n",
    "sns.regplot(data=gr, x=\"Year\", y=\"AverageTemperature\").set(title=title)\n",
    "sns.despine()"
   ]
  },
  {
   "cell_type": "markdown",
   "metadata": {},
   "source": [
    "## Are all seasons affected the same? "
   ]
  },
  {
   "cell_type": "code",
   "execution_count": null,
   "metadata": {},
   "outputs": [],
   "source": [
    "seasons = ['Winter', 'Spring', 'Summer', 'Autumn']"
   ]
  },
  {
   "cell_type": "code",
   "execution_count": null,
   "metadata": {},
   "outputs": [],
   "source": [
    "title = 'Average Temperature per Season in Greece (1850-2013)'\n",
    "sns.relplot(data=gr, x=\"Year\", y=\"AverageTemperature\", hue=\"season\", ci= None, \n",
    "            height=5, aspect=2.4, kind=\"line\").set(title=title)\n",
    "#t = plt.plot(range(i, i + 5))\n",
    "\n",
    "#plt.legend(title='Season', loc='center left', bbox_to_anchor=(1, 0.5))\n",
    "plt.xlim(min_year, max_year)"
   ]
  },
  {
   "cell_type": "code",
   "execution_count": null,
   "metadata": {},
   "outputs": [],
   "source": [
    "gr"
   ]
  },
  {
   "cell_type": "code",
   "execution_count": null,
   "metadata": {},
   "outputs": [],
   "source": [
    "gr = gr.groupby(by=['Year', 'season']).mean().reset_index()"
   ]
  },
  {
   "cell_type": "code",
   "execution_count": null,
   "metadata": {},
   "outputs": [],
   "source": []
  },
  {
   "cell_type": "code",
   "execution_count": null,
   "metadata": {},
   "outputs": [],
   "source": [
    "gr"
   ]
  },
  {
   "cell_type": "code",
   "execution_count": null,
   "metadata": {},
   "outputs": [],
   "source": []
  },
  {
   "cell_type": "code",
   "execution_count": null,
   "metadata": {},
   "outputs": [],
   "source": []
  },
  {
   "cell_type": "markdown",
   "metadata": {},
   "source": [
    "    fig, ax = plt.subplots(figsize=(10, 6)) # let's make it bigger\n",
    "    camera = Camera(fig)# the camera gets our figure\n",
    "\n",
    "    x = gr.Year\n",
    "    y = gr.AverageTemperature\n",
    "    for i in range(len(x)):\n",
    "        x_t = x[:i] # current year\n",
    "        y_t = y[:i] # current temp\n",
    "        sns.relplot(data=gr, x=\"Year\", y=\"AverageTemperature\", hue=\"season\", ci= None, \n",
    "                height=5, aspect=2.4, kind=\"line\").set(title=title)\n",
    "        camera.snap()\n",
    "    animation = camera.animate(blit=False, interval=20)\n",
    "    plt.close() #Stop the empty plot from displaying\n",
    "    animation.save('gr_temp_seasons.gif', writer='pillow')\n",
    "    HTML(animation.to_html5_video())"
   ]
  },
  {
   "cell_type": "code",
   "execution_count": null,
   "metadata": {},
   "outputs": [],
   "source": []
  },
  {
   "cell_type": "code",
   "execution_count": null,
   "metadata": {},
   "outputs": [],
   "source": []
  },
  {
   "cell_type": "code",
   "execution_count": null,
   "metadata": {},
   "outputs": [],
   "source": []
  },
  {
   "cell_type": "code",
   "execution_count": null,
   "metadata": {},
   "outputs": [],
   "source": []
  },
  {
   "cell_type": "code",
   "execution_count": null,
   "metadata": {},
   "outputs": [],
   "source": []
  },
  {
   "cell_type": "code",
   "execution_count": null,
   "metadata": {},
   "outputs": [],
   "source": [
    "gr = gr.groupby(by=['Year','season']).mean()\n",
    "gr"
   ]
  },
  {
   "cell_type": "code",
   "execution_count": null,
   "metadata": {},
   "outputs": [],
   "source": []
  },
  {
   "cell_type": "code",
   "execution_count": null,
   "metadata": {},
   "outputs": [],
   "source": []
  },
  {
   "cell_type": "code",
   "execution_count": null,
   "metadata": {},
   "outputs": [],
   "source": []
  },
  {
   "cell_type": "code",
   "execution_count": null,
   "metadata": {},
   "outputs": [],
   "source": []
  },
  {
   "cell_type": "code",
   "execution_count": null,
   "metadata": {},
   "outputs": [],
   "source": []
  },
  {
   "cell_type": "code",
   "execution_count": null,
   "metadata": {},
   "outputs": [],
   "source": []
  },
  {
   "cell_type": "code",
   "execution_count": null,
   "metadata": {},
   "outputs": [],
   "source": [
    "gr = gr[['AverageTemperature', 'AverageTemperatureUncertainty']]"
   ]
  },
  {
   "cell_type": "code",
   "execution_count": null,
   "metadata": {},
   "outputs": [],
   "source": [
    "#from scipy.interpolate import make_interp_spline\n",
    "#a_BSpline = make_interp_spline(list(data.index), list(data[season]))\n",
    "#y_new = a_BSpline(data.index)"
   ]
  },
  {
   "cell_type": "markdown",
   "metadata": {},
   "source": [
    "    plt.figure(figsize=(18,8))\n",
    "    sns.set(font_scale=2)\n",
    "    ax = sns.violinplot(data=data, order = seasons)\n",
    "    #ax.set(xlabel='Platforms', ylabel='User Score', title='Best-Selling Consoles: Critic Scores')\n",
    "    plt.show()"
   ]
  },
  {
   "cell_type": "code",
   "execution_count": null,
   "metadata": {},
   "outputs": [],
   "source": [
    "sns.set(style=\"darkgrid\")\n",
    "f, ax = plt.subplots(figsize=(10, 6))\n",
    "\n",
    "data = gr.unstack(level=1).AverageTemperature\n",
    "for season in ['Winter', 'Autumn', 'Spring', 'Summer']:\n",
    "    sns.lineplot(data = data[season], label=season)\n",
    "plt.xlim(min_year, max_year)\n",
    "ax.grid(False)\n",
    "ax.set_ylabel('Average Temperature')\n",
    "ax.set_xlabel('Year')\n",
    "ax.set_title('Average Temperature per Season in Greece')\n",
    "legend = plt.legend(loc='center left', bbox_to_anchor=(1, 0.5))"
   ]
  },
  {
   "cell_type": "markdown",
   "metadata": {},
   "source": [
    "    #sns.set(style=\"whitegrid\")\n",
    "    sns.set(style=\"ticks\")\n",
    "    f, axes = plt.subplots(4,1, figsize = (10, 10))\n",
    "    data = gr_ath.unstack(level=1).AverageTemperature\n",
    "    for num, season in enumerate(seasons):\n",
    "        sns.lineplot(ax = axes[num], data = data[season],label=season, linewidth=1)"
   ]
  },
  {
   "cell_type": "code",
   "execution_count": null,
   "metadata": {},
   "outputs": [],
   "source": []
  },
  {
   "cell_type": "markdown",
   "metadata": {},
   "source": [
    "    #dataset for every city to greece\n",
    "    gr_ath = gr[gr['City'] == 'Athens']\n",
    "    gr_thes = gr[gr['City'] =='Thessaloníki']\n",
    "    gr_lar = gr[gr['City'] == 'Lárisa']\n",
    "    gr_patra = gr[gr['City'] == 'Pátrai']"
   ]
  },
  {
   "cell_type": "code",
   "execution_count": null,
   "metadata": {},
   "outputs": [],
   "source": []
  }
 ],
 "metadata": {
  "kernelspec": {
   "display_name": "Python 3",
   "language": "python",
   "name": "python3"
  },
  "language_info": {
   "codemirror_mode": {
    "name": "ipython",
    "version": 3
   },
   "file_extension": ".py",
   "mimetype": "text/x-python",
   "name": "python",
   "nbconvert_exporter": "python",
   "pygments_lexer": "ipython3",
   "version": "3.8.3"
  }
 },
 "nbformat": 4,
 "nbformat_minor": 5
}
